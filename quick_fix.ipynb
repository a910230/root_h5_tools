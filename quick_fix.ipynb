{
 "cells": [
  {
   "cell_type": "code",
   "execution_count": 2,
   "metadata": {},
   "outputs": [
    {
     "name": "stdout",
     "output_type": "stream",
     "text": [
      "/CLASSIFICATIONS/EVENT/signal\n",
      "/INPUTS/Source/MASK\n",
      "/INPUTS/Source/btag\n",
      "/INPUTS/Source/eta\n",
      "/INPUTS/Source/mass\n",
      "/INPUTS/Source/phi\n",
      "/INPUTS/Source/pt\n"
     ]
    }
   ],
   "source": [
    "import os\n",
    "import sys\n",
    "import h5py\n",
    "import numpy as np\n",
    "from utils import h5py_dataset_iterator\n",
    "\n",
    "def print_ans(input_file, output_file):\n",
    "    with h5py.File(input_file, \"r\") as f_in:\n",
    "        b11 = f_in[\"TARGETS/h1/b1\"][:]\n",
    "        b12 = f_in[\"TARGETS/h1/b2\"][:]\n",
    "        b21 = f_in[\"TARGETS/h2/b1\"][:]\n",
    "        b22 = f_in[\"TARGETS/h2/b2\"][:]\n",
    "        b31 = f_in[\"TARGETS/h3/b1\"][:]\n",
    "        b32 = f_in[\"TARGETS/h3/b2\"][:]\n",
    "\n",
    "        b12[b11 == -1] = -1\n",
    "        b11[b12 == -1] = -1\n",
    "        b22[b21 == -1] = -1\n",
    "        b21[b22 == -1] = -1\n",
    "        b32[b31 == -1] = -1\n",
    "        b31[b32 == -1] = -1\n",
    "\n",
    "        with h5py.File(output_file, \"w-\") as f_out:\n",
    "            for (path, dset) in h5py_dataset_iterator(f_in):\n",
    "                f_out.create_dataset(path, dset.shape, maxshape=(None, *(dset.shape[1:])), dtype=dset.dtype)\n",
    "                if path not in [\"/TARGETS/h1/b1\", \"/TARGETS/h1/b2\", \"/TARGETS/h2/b1\", \"/TARGETS/h2/b2\", \"/TARGETS/h3/b1\", \"/TARGETS/h3/b2\"]:\n",
    "                    print(path)\n",
    "                    dset_fix = dset[:]\n",
    "                    dset_fix[np.isnan(dset)] = 0.\n",
    "                    f_out[path][:] = dset_fix\n",
    "            f_out[\"/TARGETS/h1/b1\"][:] = b11\n",
    "            f_out[\"/TARGETS/h1/b2\"][:] = b12\n",
    "            f_out[\"/TARGETS/h2/b1\"][:] = b21\n",
    "            f_out[\"/TARGETS/h2/b2\"][:] = b22\n",
    "            f_out[\"/TARGETS/h3/b1\"][:] = b31\n",
    "            f_out[\"/TARGETS/h3/b2\"][:] = b32\n",
    "\n",
    "if __name__ == '__main__':\n",
    "\n",
    "    input_file = \"/home/dilatino/root_to_h5/tmp/3h_1500_1000_4b_train_252674_shuffled.h5\"\n",
    "    output_file = \"/home/dilatino/root_to_h5/tmp/3h_1500_1000_4b_train_252674.h5\"\n",
    "    print_ans(input_file, output_file)"
   ]
  },
  {
   "cell_type": "code",
   "execution_count": 5,
   "metadata": {},
   "outputs": [
    {
     "name": "stdout",
     "output_type": "stream",
     "text": [
      "[1.0, -3, nan]\n",
      "[ 1. -3. nan]\n",
      "[False False  True]\n"
     ]
    }
   ],
   "source": [
    "import numpy as np\n",
    "l = [1.0, -3, float(\"nan\")]\n",
    "print(l)\n",
    "arr = np.array(l)\n",
    "print(arr)\n",
    "print(np.isnan(arr))"
   ]
  }
 ],
 "metadata": {
  "kernelspec": {
   "display_name": "makkapakka3",
   "language": "python",
   "name": "python3"
  },
  "language_info": {
   "codemirror_mode": {
    "name": "ipython",
    "version": 3
   },
   "file_extension": ".py",
   "mimetype": "text/x-python",
   "name": "python",
   "nbconvert_exporter": "python",
   "pygments_lexer": "ipython3",
   "version": "3.9.19"
  }
 },
 "nbformat": 4,
 "nbformat_minor": 2
}
