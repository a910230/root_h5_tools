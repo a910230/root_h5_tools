{
 "cells": [
  {
   "cell_type": "code",
   "execution_count": 1,
   "metadata": {},
   "outputs": [],
   "source": [
    "import uproot\n",
    "import numpy as np\n",
    "import awkward as ak\n",
    "\n",
    "root_path = \"../dl/tag_1_delphes_events.root\"\n",
    "\n",
    "root_file = uproot.open(root_path)[\"Delphes;1\"]\n",
    "cross_section = ak.to_numpy(root_file[\"Event.CrossSection\"].array()[:])\n",
    "weight = ak.to_numpy(root_file[\"Event.Weight\"].array()[:])\n"
   ]
  },
  {
   "cell_type": "code",
   "execution_count": 2,
   "metadata": {},
   "outputs": [
    {
     "name": "stdout",
     "output_type": "stream",
     "text": [
      "1055.1562\n",
      "2269.8503\n",
      "0.022698503\n",
      "[[0.02239412]\n",
      " [0.02242592]\n",
      " [0.02326161]\n",
      " [0.02240404]\n",
      " [0.02300581]\n",
      " [0.02239983]\n",
      " [0.02241825]\n",
      " [0.02248726]\n",
      " [0.02240751]\n",
      " [0.02452968]\n",
      " [0.02241653]\n",
      " [0.02384667]\n",
      " [0.02241072]\n",
      " [0.02257909]\n",
      " [0.0223915 ]\n",
      " [0.02269153]\n",
      " [0.02259477]\n",
      " [0.02290437]\n",
      " [0.02246987]\n",
      " [0.02260301]]\n"
     ]
    }
   ],
   "source": [
    "sum = cross_section.sum()\n",
    "print(sum)\n",
    "sum_weight = weight.sum()\n",
    "ave_weight = weight.mean()\n",
    "print(sum_weight)\n",
    "print(ave_weight)\n",
    "\n",
    "print(weight[:20])"
   ]
  }
 ],
 "metadata": {
  "kernelspec": {
   "display_name": "makkapakka3",
   "language": "python",
   "name": "python3"
  },
  "language_info": {
   "codemirror_mode": {
    "name": "ipython",
    "version": 3
   },
   "file_extension": ".py",
   "mimetype": "text/x-python",
   "name": "python",
   "nbconvert_exporter": "python",
   "pygments_lexer": "ipython3",
   "version": "3.9.19"
  }
 },
 "nbformat": 4,
 "nbformat_minor": 2
}
